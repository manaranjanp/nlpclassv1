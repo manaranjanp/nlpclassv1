{
  "nbformat": 4,
  "nbformat_minor": 0,
  "metadata": {
    "kernelspec": {
      "display_name": "Python [conda env:Anaconda3]",
      "language": "python",
      "name": "conda-env-Anaconda3-py"
    },
    "language_info": {
      "codemirror_mode": {
        "name": "ipython",
        "version": 3
      },
      "file_extension": ".py",
      "mimetype": "text/x-python",
      "name": "python",
      "nbconvert_exporter": "python",
      "pygments_lexer": "ipython3",
      "version": "3.5.6"
    },
    "colab": {
      "name": "Document Clustering.ipynb",
      "provenance": []
    }
  },
  "cells": [
    {
      "cell_type": "markdown",
      "metadata": {
        "id": "PvFDZfHDEe7J"
      },
      "source": [
        "### Document Clustering"
      ]
    },
    {
      "cell_type": "markdown",
      "metadata": {
        "id": "xQ8GS37oEe7L"
      },
      "source": [
        "Clustering similar documents together."
      ]
    },
    {
      "cell_type": "markdown",
      "metadata": {
        "id": "EJR6xntZQbd8"
      },
      "source": [
        "## Read Dataset"
      ]
    },
    {
      "cell_type": "code",
      "metadata": {
        "id": "cBUdDl97Qak7"
      },
      "source": [
        "import pandas as pd\n",
        "\n",
        "reviews_df = pd.read_csv(\"https://drive.google.com/uc?export=download&id=10dXjNNV9dbkn5shYLPcKXk_FWHvLmbGT\")"
      ],
      "execution_count": 1,
      "outputs": []
    },
    {
      "cell_type": "code",
      "metadata": {
        "id": "aExlfsJ7Qmzx"
      },
      "source": [
        "pd.set_option(\"max_colwidth\", 200)"
      ],
      "execution_count": 2,
      "outputs": []
    },
    {
      "cell_type": "code",
      "metadata": {
        "colab": {
          "base_uri": "https://localhost:8080/",
          "height": 362
        },
        "id": "F9IEZIm3Qi-4",
        "outputId": "f6c72c02-b89c-47e7-8c06-f89766c22172"
      },
      "source": [
        "reviews_df.sample(10)"
      ],
      "execution_count": 3,
      "outputs": [
        {
          "output_type": "execute_result",
          "data": {
            "text/html": [
              "<div>\n",
              "<style scoped>\n",
              "    .dataframe tbody tr th:only-of-type {\n",
              "        vertical-align: middle;\n",
              "    }\n",
              "\n",
              "    .dataframe tbody tr th {\n",
              "        vertical-align: top;\n",
              "    }\n",
              "\n",
              "    .dataframe thead th {\n",
              "        text-align: right;\n",
              "    }\n",
              "</style>\n",
              "<table border=\"1\" class=\"dataframe\">\n",
              "  <thead>\n",
              "    <tr style=\"text-align: right;\">\n",
              "      <th></th>\n",
              "      <th>review</th>\n",
              "      <th>sentiment</th>\n",
              "    </tr>\n",
              "  </thead>\n",
              "  <tbody>\n",
              "    <tr>\n",
              "      <th>857</th>\n",
              "      <td>A perfect renovated look of Refresh is taking my brethe here Very nice place to have quick bites along with chit chats \\n\\nI recommend this</td>\n",
              "      <td>1</td>\n",
              "    </tr>\n",
              "    <tr>\n",
              "      <th>1915</th>\n",
              "      <td>garlic toast was very bad</td>\n",
              "      <td>0</td>\n",
              "    </tr>\n",
              "    <tr>\n",
              "      <th>948</th>\n",
              "      <td>This place is really awesome I love the food and ambience This is one the best cafe in the city  Staff is very polite generous and proactive</td>\n",
              "      <td>1</td>\n",
              "    </tr>\n",
              "    <tr>\n",
              "      <th>599</th>\n",
              "      <td>pasta was amazing</td>\n",
              "      <td>1</td>\n",
              "    </tr>\n",
              "    <tr>\n",
              "      <th>2593</th>\n",
              "      <td>The sandwich was filled with mayonnaise\\nTaste can be improved</td>\n",
              "      <td>0</td>\n",
              "    </tr>\n",
              "    <tr>\n",
              "      <th>3009</th>\n",
              "      <td>Perfect place to spend a really good timeThumbs up for both tea and coffeeI come here everytime and enjoy my perfect cup of tea and snacks</td>\n",
              "      <td>1</td>\n",
              "    </tr>\n",
              "    <tr>\n",
              "      <th>3815</th>\n",
              "      <td>Enjoyed VERY NICE FOOD especially the grilled sandwich staff nd service was very goodI also liked the interiors of the cafe nd its ambience</td>\n",
              "      <td>1</td>\n",
              "    </tr>\n",
              "    <tr>\n",
              "      <th>2105</th>\n",
              "      <td>Excellent Im in love with their food Very satisfying</td>\n",
              "      <td>1</td>\n",
              "    </tr>\n",
              "    <tr>\n",
              "      <th>2539</th>\n",
              "      <td>I ordered a walnut brownie but I got a chocolate brownie\\nPlease revert</td>\n",
              "      <td>0</td>\n",
              "    </tr>\n",
              "    <tr>\n",
              "      <th>4434</th>\n",
              "      <td>thick crust looks like thin crust</td>\n",
              "      <td>0</td>\n",
              "    </tr>\n",
              "  </tbody>\n",
              "</table>\n",
              "</div>"
            ],
            "text/plain": [
              "                                                                                                                                            review  sentiment\n",
              "857    A perfect renovated look of Refresh is taking my brethe here Very nice place to have quick bites along with chit chats \\n\\nI recommend this          1\n",
              "1915                                                                                                                     garlic toast was very bad          0\n",
              "948   This place is really awesome I love the food and ambience This is one the best cafe in the city  Staff is very polite generous and proactive          1\n",
              "599                                                                                                                              pasta was amazing          1\n",
              "2593                                                                                The sandwich was filled with mayonnaise\\nTaste can be improved          0\n",
              "3009    Perfect place to spend a really good timeThumbs up for both tea and coffeeI come here everytime and enjoy my perfect cup of tea and snacks          1\n",
              "3815   Enjoyed VERY NICE FOOD especially the grilled sandwich staff nd service was very goodI also liked the interiors of the cafe nd its ambience          1\n",
              "2105                                                                                          Excellent Im in love with their food Very satisfying          1\n",
              "2539                                                                       I ordered a walnut brownie but I got a chocolate brownie\\nPlease revert          0\n",
              "4434                                                                                                             thick crust looks like thin crust          0"
            ]
          },
          "metadata": {
            "tags": []
          },
          "execution_count": 3
        }
      ]
    },
    {
      "cell_type": "code",
      "metadata": {
        "colab": {
          "base_uri": "https://localhost:8080/"
        },
        "id": "0VtjoiZKQzOd",
        "outputId": "ca27a1d2-9bf6-4b99-8333-64c238195345"
      },
      "source": [
        "reviews_df.info()"
      ],
      "execution_count": 4,
      "outputs": [
        {
          "output_type": "stream",
          "text": [
            "<class 'pandas.core.frame.DataFrame'>\n",
            "RangeIndex: 5476 entries, 0 to 5475\n",
            "Data columns (total 2 columns):\n",
            " #   Column     Non-Null Count  Dtype \n",
            "---  ------     --------------  ----- \n",
            " 0   review     5322 non-null   object\n",
            " 1   sentiment  5476 non-null   int64 \n",
            "dtypes: int64(1), object(1)\n",
            "memory usage: 85.7+ KB\n"
          ],
          "name": "stdout"
        }
      ]
    },
    {
      "cell_type": "code",
      "metadata": {
        "id": "RJlbmKsyQ2H_"
      },
      "source": [
        "reviews_df = reviews_df.dropna()"
      ],
      "execution_count": 16,
      "outputs": []
    },
    {
      "cell_type": "code",
      "metadata": {
        "colab": {
          "base_uri": "https://localhost:8080/"
        },
        "id": "0kv2OMtMQ7fm",
        "outputId": "e07d69be-29f5-4e44-ee48-8e77b6664e2b"
      },
      "source": [
        "reviews_df.info()"
      ],
      "execution_count": 17,
      "outputs": [
        {
          "output_type": "stream",
          "text": [
            "<class 'pandas.core.frame.DataFrame'>\n",
            "Int64Index: 5322 entries, 0 to 5475\n",
            "Data columns (total 2 columns):\n",
            " #   Column     Non-Null Count  Dtype \n",
            "---  ------     --------------  ----- \n",
            " 0   review     5322 non-null   object\n",
            " 1   sentiment  5322 non-null   int64 \n",
            "dtypes: int64(1), object(1)\n",
            "memory usage: 124.7+ KB\n"
          ],
          "name": "stdout"
        }
      ]
    },
    {
      "cell_type": "markdown",
      "metadata": {
        "id": "x2J6GCxaEe7L"
      },
      "source": [
        "##### Download NLTK Resources"
      ]
    },
    {
      "cell_type": "code",
      "metadata": {
        "id": "GI1Ah_mAXkV3"
      },
      "source": [
        "import nltk"
      ],
      "execution_count": 18,
      "outputs": []
    },
    {
      "cell_type": "code",
      "metadata": {
        "colab": {
          "base_uri": "https://localhost:8080/"
        },
        "id": "RcY1VFm9QEkh",
        "outputId": "be6b57b2-fa2b-4226-a2bd-0c6f68a90ce8"
      },
      "source": [
        "nltk.download('stopwords')\n",
        "nltk.download('wordnet')\n",
        "nltk.download('averaged_perceptron_tagger')"
      ],
      "execution_count": 19,
      "outputs": [
        {
          "output_type": "stream",
          "text": [
            "[nltk_data] Downloading package stopwords to /root/nltk_data...\n",
            "[nltk_data]   Package stopwords is already up-to-date!\n",
            "[nltk_data] Downloading package wordnet to /root/nltk_data...\n",
            "[nltk_data]   Package wordnet is already up-to-date!\n",
            "[nltk_data] Downloading package averaged_perceptron_tagger to\n",
            "[nltk_data]     /root/nltk_data...\n",
            "[nltk_data]   Package averaged_perceptron_tagger is already up-to-\n",
            "[nltk_data]       date!\n"
          ],
          "name": "stdout"
        },
        {
          "output_type": "execute_result",
          "data": {
            "text/plain": [
              "True"
            ]
          },
          "metadata": {
            "tags": []
          },
          "execution_count": 19
        }
      ]
    },
    {
      "cell_type": "markdown",
      "metadata": {
        "id": "5tcwt0RMEe7L"
      },
      "source": [
        "##### Clean Text and return Tokens"
      ]
    },
    {
      "cell_type": "code",
      "metadata": {
        "id": "67FXJd1eEe7L"
      },
      "source": [
        "from nltk.tokenize import WhitespaceTokenizer\n",
        "tokenizer_w = WhitespaceTokenizer()\n",
        "\n",
        "def tokenize(text):\n",
        "    tokenized_list = tokenizer_w.tokenize(text.lower())   \n",
        "    return tokenized_list"
      ],
      "execution_count": 20,
      "outputs": []
    },
    {
      "cell_type": "markdown",
      "metadata": {
        "id": "RSPV7uOvEe7M"
      },
      "source": [
        "##### wordnet and lemmatization"
      ]
    },
    {
      "cell_type": "markdown",
      "metadata": {
        "id": "5X8DvRPNEe7N"
      },
      "source": [
        "Use NLTK's wordnet to find meanings of words, synonyms, antonyms, and more. In addition, we use WordNetLemmatizer to get the root word."
      ]
    },
    {
      "cell_type": "code",
      "metadata": {
        "id": "fe5HFXiCEe7N"
      },
      "source": [
        "\n",
        "from nltk.stem.wordnet import WordNetLemmatizer\n",
        "\n",
        "def get_lemma(word):\n",
        "    return WordNetLemmatizer().lemmatize(word)"
      ],
      "execution_count": 21,
      "outputs": []
    },
    {
      "cell_type": "markdown",
      "metadata": {
        "id": "qnY_V8j2Ee7O"
      },
      "source": [
        "##### Filter out stop words"
      ]
    },
    {
      "cell_type": "code",
      "metadata": {
        "id": "kVw3IitkEe7O"
      },
      "source": [
        "import nltk\n",
        "en_stop = set(nltk.corpus.stopwords.words('english'))"
      ],
      "execution_count": 22,
      "outputs": []
    },
    {
      "cell_type": "markdown",
      "metadata": {
        "id": "lEEtBnfqEe7O"
      },
      "source": [
        "##### Define a function to prepare Text for Topic Modelling"
      ]
    },
    {
      "cell_type": "code",
      "metadata": {
        "id": "lhk6oNUJQOoh"
      },
      "source": [
        "min_token_length = 3"
      ],
      "execution_count": 23,
      "outputs": []
    },
    {
      "cell_type": "code",
      "metadata": {
        "id": "bPAdR0_XEe7O"
      },
      "source": [
        "def prepare_text_for_lda(text):\n",
        "    tokens = tokenize(text)\n",
        "    tokens = [token for token in tokens if len(token) > min_token_length]\n",
        "    tokens = [token for token in tokens if token not in en_stop]\n",
        "    tokens = [get_lemma(token) for token in tokens]\n",
        "    return tokens"
      ],
      "execution_count": 24,
      "outputs": []
    },
    {
      "cell_type": "markdown",
      "metadata": {
        "id": "9lw0XHOxEe7P"
      },
      "source": [
        "### Prepare Data"
      ]
    },
    {
      "cell_type": "code",
      "metadata": {
        "id": "4VKR92K3xfvF"
      },
      "source": [
        "from gensim.models.doc2vec import Doc2Vec, TaggedDocument"
      ],
      "execution_count": 25,
      "outputs": []
    },
    {
      "cell_type": "code",
      "metadata": {
        "id": "IBe6vwzaRBW9"
      },
      "source": [
        "reviews_df['new_reviews'] = reviews_df.review.map(lambda x: prepare_text_for_lda(x))"
      ],
      "execution_count": 26,
      "outputs": []
    },
    {
      "cell_type": "code",
      "metadata": {
        "id": "n9YY9e0kxwYo"
      },
      "source": [
        "train_doc2vec = [TaggedDocument((d), tags=[str(i)]) for i, d in enumerate(reviews_df['new_reviews'])]"
      ],
      "execution_count": 27,
      "outputs": []
    },
    {
      "cell_type": "code",
      "metadata": {
        "colab": {
          "base_uri": "https://localhost:8080/"
        },
        "id": "jkDvQpPKyEcq",
        "outputId": "735be409-442d-4c33-f3b8-054f4f7c7617"
      },
      "source": [
        "train_doc2vec[0:1]"
      ],
      "execution_count": 28,
      "outputs": [
        {
          "output_type": "execute_result",
          "data": {
            "text/plain": [
              "[TaggedDocument(words=['pathetic', 'waste', 'money'], tags=['0'])]"
            ]
          },
          "metadata": {
            "tags": []
          },
          "execution_count": 28
        }
      ]
    },
    {
      "cell_type": "code",
      "metadata": {
        "id": "GS9Nr0VKEe7R",
        "colab": {
          "base_uri": "https://localhost:8080/"
        },
        "outputId": "483bce67-42ac-4baf-cb7a-a805c3bea6e9"
      },
      "source": [
        "len(train_doc2vec)"
      ],
      "execution_count": 29,
      "outputs": [
        {
          "output_type": "execute_result",
          "data": {
            "text/plain": [
              "5322"
            ]
          },
          "metadata": {
            "tags": []
          },
          "execution_count": 29
        }
      ]
    },
    {
      "cell_type": "markdown",
      "metadata": {
        "id": "i-xA9Ne9Ee7R"
      },
      "source": [
        "##### LDA with gensim"
      ]
    },
    {
      "cell_type": "markdown",
      "metadata": {
        "id": "Eo_nQPe-Ee7S"
      },
      "source": [
        "First, we are creating a dictionary from the data, then convert to bag-of-words corpus and save the dictionary and corpus for future use."
      ]
    },
    {
      "cell_type": "code",
      "metadata": {
        "id": "fucXFYMWEe7S",
        "colab": {
          "base_uri": "https://localhost:8080/"
        },
        "outputId": "337f4c24-1535-4c12-8072-2749f58a63d4"
      },
      "source": [
        "#Train a doc2vec model to learn tweet representations. Use only training data!!\n",
        "model = Doc2Vec(vector_size=50, alpha=0.025, min_count=5, dm =1, epochs=100)\n",
        "model.build_vocab(train_doc2vec)\n",
        "model.train(train_doc2vec, total_examples=model.corpus_count, epochs=model.epochs)\n",
        "model.save(\"d2v.model\")\n",
        "print(\"Model Saved\")"
      ],
      "execution_count": 30,
      "outputs": [
        {
          "output_type": "stream",
          "text": [
            "Model Saved\n"
          ],
          "name": "stdout"
        }
      ]
    },
    {
      "cell_type": "code",
      "metadata": {
        "id": "G-bhY4GnEe7S"
      },
      "source": [
        "#Infer the feature representation for training and test data using the trained model\n",
        "model= Doc2Vec.load(\"d2v.model\")\n",
        "#infer in multiple steps to get a stable representation. \n",
        "doc_vectors =  [model.infer_vector(list_of_tokens, steps=50) for list_of_tokens in reviews_df['new_reviews']]"
      ],
      "execution_count": 31,
      "outputs": []
    },
    {
      "cell_type": "code",
      "metadata": {
        "colab": {
          "base_uri": "https://localhost:8080/"
        },
        "id": "fWT4wkBBzQfk",
        "outputId": "dd78ddef-3513-48de-b049-ff99fbcf43c9"
      },
      "source": [
        "doc_vectors[0:1]"
      ],
      "execution_count": 44,
      "outputs": [
        {
          "output_type": "execute_result",
          "data": {
            "text/plain": [
              "[array([-0.00762218,  0.0062645 ,  0.11593407,  0.04018093,  0.00967872,\n",
              "         0.01843313, -0.06368793,  0.05949349, -0.10142181, -0.02306454,\n",
              "         0.04658538,  0.0194962 , -0.07044731,  0.04605113, -0.13581951,\n",
              "         0.18217945, -0.09189049,  0.1260983 , -0.01662198,  0.01770755,\n",
              "        -0.05389329, -0.22464792, -0.09044197, -0.00527616,  0.06158732,\n",
              "         0.0219105 , -0.08901794, -0.08471939,  0.00299248,  0.09755848,\n",
              "         0.01742232, -0.10582723, -0.07851638, -0.03315408,  0.05420331,\n",
              "         0.07518912, -0.05302157,  0.01482735,  0.08178735, -0.06101079,\n",
              "         0.00594147,  0.08248877, -0.02506243, -0.26798683,  0.03006242,\n",
              "         0.02358549, -0.06595553,  0.07970453, -0.01842817, -0.11404482],\n",
              "       dtype=float32)]"
            ]
          },
          "metadata": {
            "tags": []
          },
          "execution_count": 44
        }
      ]
    },
    {
      "cell_type": "code",
      "metadata": {
        "id": "6U57HaTEzZgZ"
      },
      "source": [
        "from sklearn.cluster import KMeans"
      ],
      "execution_count": 33,
      "outputs": []
    },
    {
      "cell_type": "code",
      "metadata": {
        "id": "7EzDtx4QzdvS"
      },
      "source": [
        "kmeans = KMeans(n_clusters=2, random_state=100)"
      ],
      "execution_count": 50,
      "outputs": []
    },
    {
      "cell_type": "code",
      "metadata": {
        "colab": {
          "base_uri": "https://localhost:8080/"
        },
        "id": "E4kPviaEzkRS",
        "outputId": "8f290a4e-c60f-444b-8df8-73b5beef4893"
      },
      "source": [
        "kmeans.fit(doc_vectors)"
      ],
      "execution_count": 51,
      "outputs": [
        {
          "output_type": "execute_result",
          "data": {
            "text/plain": [
              "KMeans(algorithm='auto', copy_x=True, init='k-means++', max_iter=300,\n",
              "       n_clusters=2, n_init=10, n_jobs=None, precompute_distances='auto',\n",
              "       random_state=100, tol=0.0001, verbose=0)"
            ]
          },
          "metadata": {
            "tags": []
          },
          "execution_count": 51
        }
      ]
    },
    {
      "cell_type": "code",
      "metadata": {
        "colab": {
          "base_uri": "https://localhost:8080/"
        },
        "id": "RiRRYCqQzmsR",
        "outputId": "2fea937c-29c9-4f39-856b-c9ee89683b05"
      },
      "source": [
        "kmeans.labels_"
      ],
      "execution_count": 52,
      "outputs": [
        {
          "output_type": "execute_result",
          "data": {
            "text/plain": [
              "array([1, 0, 1, ..., 1, 0, 0], dtype=int32)"
            ]
          },
          "metadata": {
            "tags": []
          },
          "execution_count": 52
        }
      ]
    },
    {
      "cell_type": "code",
      "metadata": {
        "id": "lnAt_DHZ0AXw"
      },
      "source": [
        ""
      ],
      "execution_count": 52,
      "outputs": []
    },
    {
      "cell_type": "code",
      "metadata": {
        "id": "RUoGb4b3zoWZ"
      },
      "source": [
        "reviews_df['cluster_id'] = kmeans.labels_"
      ],
      "execution_count": 53,
      "outputs": []
    },
    {
      "cell_type": "code",
      "metadata": {
        "colab": {
          "base_uri": "https://localhost:8080/",
          "height": 362
        },
        "id": "K7XMkKiIztn5",
        "outputId": "ead87820-0e3a-465d-b64e-b5771f192a50"
      },
      "source": [
        "reviews_df[['review', 'cluster_id']][reviews_df.cluster_id == 1].sample(10)"
      ],
      "execution_count": 69,
      "outputs": [
        {
          "output_type": "execute_result",
          "data": {
            "text/html": [
              "<div>\n",
              "<style scoped>\n",
              "    .dataframe tbody tr th:only-of-type {\n",
              "        vertical-align: middle;\n",
              "    }\n",
              "\n",
              "    .dataframe tbody tr th {\n",
              "        vertical-align: top;\n",
              "    }\n",
              "\n",
              "    .dataframe thead th {\n",
              "        text-align: right;\n",
              "    }\n",
              "</style>\n",
              "<table border=\"1\" class=\"dataframe\">\n",
              "  <thead>\n",
              "    <tr style=\"text-align: right;\">\n",
              "      <th></th>\n",
              "      <th>review</th>\n",
              "      <th>cluster_id</th>\n",
              "    </tr>\n",
              "  </thead>\n",
              "  <tbody>\n",
              "    <tr>\n",
              "      <th>163</th>\n",
              "      <td>not bad</td>\n",
              "      <td>1</td>\n",
              "    </tr>\n",
              "    <tr>\n",
              "      <th>3721</th>\n",
              "      <td>good</td>\n",
              "      <td>1</td>\n",
              "    </tr>\n",
              "    <tr>\n",
              "      <th>1915</th>\n",
              "      <td>garlic toast was very bad</td>\n",
              "      <td>1</td>\n",
              "    </tr>\n",
              "    <tr>\n",
              "      <th>3137</th>\n",
              "      <td>Overpriced\\nDoesnt give you an authentic bill and on explains the 20 tax as food tax\\nPoor Service</td>\n",
              "      <td>1</td>\n",
              "    </tr>\n",
              "    <tr>\n",
              "      <th>2719</th>\n",
              "      <td>Pepsi I got the small sizeand I had ordered for the medium size</td>\n",
              "      <td>1</td>\n",
              "    </tr>\n",
              "    <tr>\n",
              "      <th>2650</th>\n",
              "      <td>The sandwich was filled with mayonnaise\\nTaste can be improved</td>\n",
              "      <td>1</td>\n",
              "    </tr>\n",
              "    <tr>\n",
              "      <th>4869</th>\n",
              "      <td>Absolutely loved it A place must try The burgers were yum and the juices as well The ambience is really good a peacefull place for a good meal</td>\n",
              "      <td>1</td>\n",
              "    </tr>\n",
              "    <tr>\n",
              "      <th>4280</th>\n",
              "      <td>The burger didnt contained cheese at all</td>\n",
              "      <td>1</td>\n",
              "    </tr>\n",
              "    <tr>\n",
              "      <th>1181</th>\n",
              "      <td>Worst hot chocolate in the history Please dont name it Dark Chocolate Theres nothing chocolate about it let alone Dark Chocolate</td>\n",
              "      <td>1</td>\n",
              "    </tr>\n",
              "    <tr>\n",
              "      <th>1872</th>\n",
              "      <td>Just crust All the way</td>\n",
              "      <td>1</td>\n",
              "    </tr>\n",
              "  </tbody>\n",
              "</table>\n",
              "</div>"
            ],
            "text/plain": [
              "                                                                                                                                              review  cluster_id\n",
              "163                                                                                                                                          not bad           1\n",
              "3721                                                                                                                                            good           1\n",
              "1915                                                                                                                       garlic toast was very bad           1\n",
              "3137                                              Overpriced\\nDoesnt give you an authentic bill and on explains the 20 tax as food tax\\nPoor Service           1\n",
              "2719                                                                                 Pepsi I got the small sizeand I had ordered for the medium size           1\n",
              "2650                                                                                  The sandwich was filled with mayonnaise\\nTaste can be improved           1\n",
              "4869  Absolutely loved it A place must try The burgers were yum and the juices as well The ambience is really good a peacefull place for a good meal           1\n",
              "4280                                                                                                        The burger didnt contained cheese at all           1\n",
              "1181                Worst hot chocolate in the history Please dont name it Dark Chocolate Theres nothing chocolate about it let alone Dark Chocolate           1\n",
              "1872                                                                                                                          Just crust All the way           1"
            ]
          },
          "metadata": {
            "tags": []
          },
          "execution_count": 69
        }
      ]
    },
    {
      "cell_type": "markdown",
      "metadata": {
        "id": "EXPYOPow2Ks4"
      },
      "source": [
        "## Using Universal Sentence Encoder from Tensorflow Hub"
      ]
    },
    {
      "cell_type": "code",
      "metadata": {
        "id": "o8TwbWdmz5qh"
      },
      "source": [
        "import tensorflow as tf\n",
        "import tensorflow_hub as hub\n",
        "import numpy as np"
      ],
      "execution_count": 56,
      "outputs": []
    },
    {
      "cell_type": "code",
      "metadata": {
        "colab": {
          "base_uri": "https://localhost:8080/"
        },
        "id": "rOZ9p-GE2QuB",
        "outputId": "2f8c4d26-f912-4e7b-a419-97a3d6eae124"
      },
      "source": [
        "module_url = \"https://tfhub.dev/google/universal-sentence-encoder/4\" \n",
        "model = hub.load(module_url)\n",
        "print (\"module %s loaded\" % module_url)"
      ],
      "execution_count": 57,
      "outputs": [
        {
          "output_type": "stream",
          "text": [
            "module https://tfhub.dev/google/universal-sentence-encoder/4 loaded\n"
          ],
          "name": "stdout"
        }
      ]
    },
    {
      "cell_type": "code",
      "metadata": {
        "id": "xTSlZLpC2TpR"
      },
      "source": [
        "sentence_embeddings = model(reviews_df.review)"
      ],
      "execution_count": 58,
      "outputs": []
    },
    {
      "cell_type": "code",
      "metadata": {
        "colab": {
          "base_uri": "https://localhost:8080/"
        },
        "id": "2xdfEA-k2bi5",
        "outputId": "a8d2f79e-845b-4c3a-97a0-01cebb2eca9b"
      },
      "source": [
        "sentence_embeddings[0:1]"
      ],
      "execution_count": 59,
      "outputs": [
        {
          "output_type": "execute_result",
          "data": {
            "text/plain": [
              "<tf.Tensor: shape=(1, 512), dtype=float32, numpy=\n",
              "array([[ 1.45384716e-02, -4.37697917e-02, -4.71408851e-02,\n",
              "        -1.14987940e-02,  6.72410131e-02,  6.79939464e-02,\n",
              "         1.03918333e-02, -4.20408025e-02, -3.87788974e-02,\n",
              "        -8.69151354e-02,  6.63133617e-03,  3.35455574e-02,\n",
              "        -1.25764329e-02, -7.40172490e-02,  6.46213368e-02,\n",
              "        -5.83788902e-02,  2.39781849e-02, -3.67021561e-02,\n",
              "        -7.02580158e-03, -2.60541476e-02,  4.51884307e-02,\n",
              "         3.16841342e-02,  5.20070605e-02, -1.04249474e-02,\n",
              "         3.05004083e-02,  2.65507717e-02,  5.90266101e-02,\n",
              "        -8.20243433e-02, -6.89064618e-03,  6.38538087e-03,\n",
              "         2.48819664e-02, -2.28606425e-02, -2.82280222e-02,\n",
              "        -2.88413651e-02, -3.04937623e-02,  5.63430833e-03,\n",
              "        -2.50107311e-02, -8.52059945e-03, -5.05692698e-02,\n",
              "         3.62647027e-02, -4.66937423e-02,  4.31796312e-02,\n",
              "        -5.39595820e-02,  3.27307126e-03, -1.76834911e-02,\n",
              "         1.22667728e-02, -6.92560971e-02,  2.12305859e-02,\n",
              "         3.25580351e-02,  3.76146622e-02,  3.12710255e-02,\n",
              "         2.47707423e-02,  1.38061643e-02, -3.86961289e-02,\n",
              "         1.48568032e-02, -2.45502125e-02,  6.66517168e-02,\n",
              "        -4.01146412e-02, -4.25360072e-03, -8.01618844e-02,\n",
              "        -3.36656161e-02, -4.70978878e-02,  1.09602120e-02,\n",
              "        -6.11297265e-02,  1.33290086e-02,  1.77220255e-02,\n",
              "         2.08100472e-02,  3.46883237e-02, -9.66795813e-03,\n",
              "        -3.26345898e-02, -2.92059761e-02,  5.76140173e-02,\n",
              "        -7.87126180e-03, -4.98673841e-02,  2.87808795e-02,\n",
              "         2.30917986e-02, -1.73876472e-02, -5.67246564e-02,\n",
              "         6.86419532e-02, -1.91123225e-02, -1.09311715e-02,\n",
              "         1.49459206e-02, -5.09753153e-02, -5.05920546e-03,\n",
              "        -1.44137051e-02, -7.66604114e-03, -4.87128496e-02,\n",
              "        -1.26834698e-02,  1.01576075e-02,  1.78094103e-06,\n",
              "         5.57304621e-02,  6.45745173e-02, -4.09682170e-02,\n",
              "         6.61938041e-02, -5.83771914e-02, -1.06150685e-02,\n",
              "        -3.63422334e-02,  2.84188781e-02, -5.58403507e-02,\n",
              "        -3.17341536e-02,  3.79773490e-02, -4.50937524e-02,\n",
              "         3.82236801e-02, -2.19071321e-02,  2.53573172e-02,\n",
              "        -7.38934660e-03, -5.62904328e-02, -1.83676071e-02,\n",
              "         1.74542014e-02,  5.38557209e-02, -6.67044073e-02,\n",
              "        -9.94375199e-02,  1.88587303e-03, -9.00274143e-02,\n",
              "        -1.65185761e-02,  3.12205385e-02, -6.64801002e-02,\n",
              "        -1.53875062e-02,  2.13260632e-02,  8.47653672e-02,\n",
              "        -3.20678055e-02,  6.72885180e-02,  6.68714345e-02,\n",
              "         2.46739127e-02,  3.64705212e-02, -7.17286095e-02,\n",
              "        -2.31674034e-02,  1.61773562e-02,  9.01796669e-02,\n",
              "        -4.44007777e-02, -6.23933859e-02, -1.38947321e-03,\n",
              "        -5.19902408e-02,  2.94549745e-02, -3.73096168e-02,\n",
              "         5.32495342e-02,  1.62741374e-02,  5.89251891e-03,\n",
              "        -5.32015674e-02,  2.97517069e-02, -6.54570237e-02,\n",
              "        -4.76060994e-02,  6.58040717e-02,  1.20997131e-02,\n",
              "         4.83227856e-02, -6.14910200e-02, -7.50881806e-03,\n",
              "         7.24847056e-03, -5.48094399e-02, -3.45597528e-02,\n",
              "        -1.40610365e-02,  3.81473303e-02, -5.82521185e-02,\n",
              "        -6.36427402e-02, -2.94714677e-03,  6.30909950e-02,\n",
              "         2.42137238e-02, -8.56395215e-02, -2.47662868e-02,\n",
              "        -3.44836749e-02,  3.08201015e-02,  5.94421029e-02,\n",
              "         2.20974311e-02, -6.22177646e-02,  4.02072854e-02,\n",
              "        -1.00311749e-02, -2.44614910e-02, -3.43932360e-02,\n",
              "        -4.41242196e-02, -4.67762463e-02, -3.31328325e-02,\n",
              "        -9.50228274e-02, -3.30805443e-02, -7.54224956e-02,\n",
              "         1.36481607e-02, -5.62521517e-02,  1.01914275e-02,\n",
              "         3.83963734e-02,  2.27369331e-02, -7.08553866e-02,\n",
              "         1.15563758e-02,  2.21650451e-02, -5.33370972e-02,\n",
              "        -2.40919106e-02,  7.62400031e-02,  2.18747035e-02,\n",
              "        -1.90199856e-02,  2.51603425e-02,  5.67330532e-02,\n",
              "        -2.17066966e-02,  1.40564255e-02, -8.25680420e-03,\n",
              "         9.08775181e-02, -5.07552526e-04, -2.81367227e-02,\n",
              "        -4.19701776e-03,  4.47413586e-02,  4.13916856e-02,\n",
              "         3.48058082e-02,  4.60233800e-02, -8.36361051e-02,\n",
              "         3.35669741e-02, -5.70453852e-02, -3.67160817e-03,\n",
              "        -2.96260994e-02,  1.40389744e-02,  3.73492669e-03,\n",
              "        -4.32960205e-02, -9.13343765e-03, -8.80678371e-03,\n",
              "        -5.29740937e-02,  1.80754121e-02, -7.00473562e-02,\n",
              "         1.21228369e-02, -4.21295576e-02, -1.59908477e-02,\n",
              "        -5.52920764e-03, -5.27647622e-02,  8.84366035e-03,\n",
              "        -4.40825708e-02, -9.60281678e-03,  3.37214209e-02,\n",
              "         3.29274987e-03, -8.50353949e-03, -5.44151105e-02,\n",
              "         4.62022200e-02, -3.15736979e-03,  9.43096206e-02,\n",
              "         3.58115844e-02, -3.13567817e-02,  7.24250749e-02,\n",
              "        -5.33831865e-02,  1.65799223e-02,  9.80859771e-02,\n",
              "         7.26681724e-02, -5.69340736e-02,  3.51556158e-03,\n",
              "        -5.89745268e-02, -6.97266459e-02,  8.10007378e-02,\n",
              "        -6.04750030e-03, -7.75359012e-03,  3.94664966e-02,\n",
              "        -6.92831650e-02,  5.30881546e-02,  9.21358392e-02,\n",
              "         4.60421108e-02,  1.28876362e-02, -2.21945606e-02,\n",
              "        -3.60591859e-02, -1.93002243e-02,  8.39135945e-02,\n",
              "         4.37044948e-02, -3.63381207e-02, -4.07573879e-02,\n",
              "         4.07089107e-02,  4.92877550e-02, -3.02607697e-02,\n",
              "         3.64612713e-02,  1.62316747e-02, -1.61574432e-03,\n",
              "         5.24746701e-02, -6.15490153e-02,  5.01312651e-02,\n",
              "         2.62388811e-02, -1.70435000e-04, -1.41969472e-02,\n",
              "         1.82704665e-02,  7.59937987e-02, -6.90734908e-02,\n",
              "         2.25294083e-02,  4.62462641e-02,  6.87161041e-03,\n",
              "         2.56483890e-02, -5.96545869e-03, -1.80150627e-03,\n",
              "         5.76942153e-02, -3.78525369e-02, -3.28071751e-02,\n",
              "         5.18553965e-02, -1.79828200e-02, -1.33959390e-02,\n",
              "        -4.94767129e-02, -5.99921159e-02,  2.69320384e-02,\n",
              "         6.96545914e-02,  7.70749971e-02,  3.75085510e-02,\n",
              "        -2.65174881e-02,  1.21915131e-03, -1.08175362e-02,\n",
              "         9.54594091e-02, -5.31414375e-02,  3.78141971e-03,\n",
              "         8.63771290e-02,  1.88801941e-02,  4.18902794e-03,\n",
              "         5.82316853e-02,  7.06156865e-02, -2.71394383e-02,\n",
              "        -3.12651731e-02,  6.45124018e-02,  9.47460346e-03,\n",
              "         2.33935378e-02, -1.75618427e-03, -5.78717478e-02,\n",
              "        -4.37576659e-02, -5.30476607e-02, -4.70582619e-02,\n",
              "         6.06321963e-03,  1.69607457e-02, -4.50010858e-02,\n",
              "        -2.16981173e-02,  1.02805151e-02,  4.42077555e-02,\n",
              "         1.84436236e-02,  4.75104302e-02,  6.78042099e-02,\n",
              "        -1.97555777e-02,  6.01296611e-02, -2.44714711e-02,\n",
              "        -9.69260372e-03,  1.45046855e-03,  1.16250869e-02,\n",
              "        -3.07889637e-02,  4.17416021e-02, -1.56210968e-02,\n",
              "        -1.02894465e-02, -3.80361527e-02, -5.56745790e-02,\n",
              "         4.87393998e-02,  4.48994227e-02,  3.05420272e-02,\n",
              "         3.44638377e-02,  2.37668622e-02,  5.15875630e-02,\n",
              "        -3.50857675e-02, -2.29492597e-02, -1.45704877e-02,\n",
              "        -2.24222708e-03, -1.30171869e-02,  1.19346017e-02,\n",
              "         6.40726415e-04,  6.76878840e-02,  7.18945637e-02,\n",
              "         5.99304726e-03, -4.63761436e-03, -2.50779726e-02,\n",
              "        -6.04878217e-02, -5.08783269e-04, -6.00677282e-02,\n",
              "        -4.90399711e-02,  1.22074652e-02,  6.79247528e-02,\n",
              "        -9.97553468e-02, -1.28805712e-02, -9.07567143e-02,\n",
              "         5.58396466e-02,  4.11672844e-03,  9.19256359e-02,\n",
              "        -2.44860500e-02, -2.93066073e-02,  9.56930369e-02,\n",
              "         5.49940281e-02,  2.90230550e-02, -8.59103650e-02,\n",
              "         3.57836634e-02,  1.17788725e-02,  1.15233974e-03,\n",
              "        -2.22641416e-02, -3.44001641e-03,  4.63540517e-02,\n",
              "        -1.45136770e-02,  2.31822599e-02, -4.15073941e-03,\n",
              "         1.62850078e-02, -3.83174196e-02, -7.73016363e-02,\n",
              "        -1.14438571e-02,  4.26298231e-02, -3.72025408e-02,\n",
              "         3.25768888e-02, -2.24564169e-02,  5.12018576e-02,\n",
              "         9.76428911e-02, -3.63436155e-02, -9.15033892e-02,\n",
              "         5.74427582e-02,  7.45607493e-03, -3.17077599e-02,\n",
              "         5.26910573e-02, -6.09430578e-03, -6.59225881e-02,\n",
              "         4.12291586e-02,  4.31550667e-03, -3.99995185e-02,\n",
              "        -5.08140326e-02, -7.60559440e-02,  8.76064179e-04,\n",
              "        -2.33645644e-02, -6.46664798e-02, -6.89125061e-02,\n",
              "        -9.63690784e-03, -3.14131007e-02,  2.43561566e-02,\n",
              "         2.98445262e-02, -4.86486927e-02,  3.38371098e-02,\n",
              "        -9.45549905e-02, -1.58952065e-02, -3.24028730e-03,\n",
              "         4.38914560e-02,  3.49399447e-02, -2.58454643e-02,\n",
              "        -5.53436242e-02, -2.29316410e-02,  1.43655781e-02,\n",
              "         3.54553573e-02,  7.81325027e-02,  1.65088614e-03,\n",
              "         1.25167063e-02,  1.48105929e-02,  1.60293803e-02,\n",
              "         5.14276661e-02, -3.47439852e-03,  6.31193221e-02,\n",
              "         7.95032233e-02,  7.36613050e-02, -3.67306959e-04,\n",
              "        -5.36793191e-03, -2.98945755e-02,  4.33332659e-02,\n",
              "         4.31554951e-02, -6.05111793e-02, -4.50795330e-02,\n",
              "         4.51681353e-02, -1.27201118e-02, -3.28227729e-02,\n",
              "        -4.05982882e-02, -8.00864697e-02,  3.86158712e-02,\n",
              "        -5.59661314e-02,  5.81025220e-02,  6.52215853e-02,\n",
              "        -2.54811086e-02,  3.30962939e-03,  6.77738339e-02,\n",
              "        -3.43520120e-02, -4.05826345e-02, -8.47934112e-02,\n",
              "        -1.01650329e-02,  1.57973338e-02,  4.81452867e-02,\n",
              "         7.16269016e-03,  6.20294595e-03, -4.76482548e-02,\n",
              "        -7.42139891e-02,  1.58222560e-02, -3.79964970e-02,\n",
              "        -4.05314490e-02, -3.62301953e-02,  6.84803445e-03,\n",
              "         6.23582257e-03,  2.67000049e-02, -3.30838859e-02,\n",
              "         2.25675814e-02, -5.93569949e-02,  4.83098067e-02,\n",
              "        -2.13397555e-02,  4.91669662e-02, -2.84025297e-02,\n",
              "        -4.25633229e-02, -3.93096171e-02, -2.67146248e-02,\n",
              "         1.74556244e-02, -2.95950973e-04, -5.02892509e-02,\n",
              "        -1.74857583e-02,  9.74854454e-02,  6.73678294e-02,\n",
              "         2.74065369e-05,  4.84683514e-02,  8.60686675e-02,\n",
              "        -3.84405516e-02, -3.73098142e-02, -5.73528893e-02,\n",
              "         7.43653066e-03,  5.15081733e-02,  6.88021109e-02,\n",
              "        -1.06639471e-02,  9.59499627e-02, -4.12812419e-02,\n",
              "         2.24346798e-02,  4.31517251e-02,  9.01019275e-02,\n",
              "        -1.49619039e-02,  6.95740357e-02, -3.52137834e-02,\n",
              "         2.05662251e-02, -5.77482730e-02, -1.11822393e-02,\n",
              "         2.12677736e-02,  1.39423721e-02, -5.39584272e-02,\n",
              "         2.96626706e-02,  3.01141571e-02, -2.49071103e-02,\n",
              "        -4.69381213e-02, -3.87333259e-02, -6.49645999e-02,\n",
              "        -6.34013563e-02, -1.44178304e-03]], dtype=float32)>"
            ]
          },
          "metadata": {
            "tags": []
          },
          "execution_count": 59
        }
      ]
    },
    {
      "cell_type": "code",
      "metadata": {
        "id": "5eLvyOsH2dQJ"
      },
      "source": [
        "kmeans_tf = KMeans(n_clusters=2, random_state=100)"
      ],
      "execution_count": 75,
      "outputs": []
    },
    {
      "cell_type": "code",
      "metadata": {
        "id": "XIZujZ-Y2uLf"
      },
      "source": [
        "kmeans_tf.fit(sentence_embeddings)\n",
        "reviews_df['cluster_id_tf'] = kmeans_tf.labels_"
      ],
      "execution_count": 76,
      "outputs": []
    },
    {
      "cell_type": "code",
      "metadata": {
        "colab": {
          "base_uri": "https://localhost:8080/",
          "height": 362
        },
        "id": "ly0ooIoi2vEo",
        "outputId": "252a0618-feba-4788-d3c8-77503749e796"
      },
      "source": [
        "reviews_df[['review', 'cluster_id_tf']][reviews_df.cluster_id_tf == 0].sample(10)"
      ],
      "execution_count": 81,
      "outputs": [
        {
          "output_type": "execute_result",
          "data": {
            "text/html": [
              "<div>\n",
              "<style scoped>\n",
              "    .dataframe tbody tr th:only-of-type {\n",
              "        vertical-align: middle;\n",
              "    }\n",
              "\n",
              "    .dataframe tbody tr th {\n",
              "        vertical-align: top;\n",
              "    }\n",
              "\n",
              "    .dataframe thead th {\n",
              "        text-align: right;\n",
              "    }\n",
              "</style>\n",
              "<table border=\"1\" class=\"dataframe\">\n",
              "  <thead>\n",
              "    <tr style=\"text-align: right;\">\n",
              "      <th></th>\n",
              "      <th>review</th>\n",
              "      <th>cluster_id_tf</th>\n",
              "    </tr>\n",
              "  </thead>\n",
              "  <tbody>\n",
              "    <tr>\n",
              "      <th>4019</th>\n",
              "      <td>worst</td>\n",
              "      <td>0</td>\n",
              "    </tr>\n",
              "    <tr>\n",
              "      <th>4226</th>\n",
              "      <td>not bad</td>\n",
              "      <td>0</td>\n",
              "    </tr>\n",
              "    <tr>\n",
              "      <th>4948</th>\n",
              "      <td>horrible food</td>\n",
              "      <td>0</td>\n",
              "    </tr>\n",
              "    <tr>\n",
              "      <th>1514</th>\n",
              "      <td>super</td>\n",
              "      <td>0</td>\n",
              "    </tr>\n",
              "    <tr>\n",
              "      <th>2753</th>\n",
              "      <td>not bad</td>\n",
              "      <td>0</td>\n",
              "    </tr>\n",
              "    <tr>\n",
              "      <th>586</th>\n",
              "      <td>good</td>\n",
              "      <td>0</td>\n",
              "    </tr>\n",
              "    <tr>\n",
              "      <th>4270</th>\n",
              "      <td>good taste</td>\n",
              "      <td>0</td>\n",
              "    </tr>\n",
              "    <tr>\n",
              "      <th>3791</th>\n",
              "      <td>good</td>\n",
              "      <td>0</td>\n",
              "    </tr>\n",
              "    <tr>\n",
              "      <th>159</th>\n",
              "      <td>too bad taste</td>\n",
              "      <td>0</td>\n",
              "    </tr>\n",
              "    <tr>\n",
              "      <th>318</th>\n",
              "      <td>good</td>\n",
              "      <td>0</td>\n",
              "    </tr>\n",
              "  </tbody>\n",
              "</table>\n",
              "</div>"
            ],
            "text/plain": [
              "             review  cluster_id_tf\n",
              "4019          worst              0\n",
              "4226        not bad              0\n",
              "4948  horrible food              0\n",
              "1514          super              0\n",
              "2753        not bad              0\n",
              "586            good              0\n",
              "4270     good taste              0\n",
              "3791           good              0\n",
              "159   too bad taste              0\n",
              "318            good              0"
            ]
          },
          "metadata": {
            "tags": []
          },
          "execution_count": 81
        }
      ]
    },
    {
      "cell_type": "code",
      "metadata": {
        "id": "_l9Giyap2vtQ"
      },
      "source": [
        ""
      ],
      "execution_count": null,
      "outputs": []
    }
  ]
}